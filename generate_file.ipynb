{
 "cells": [
  {
   "cell_type": "code",
   "execution_count": 1,
   "metadata": {},
   "outputs": [],
   "source": [
    "import numpy as np"
   ]
  },
  {
   "cell_type": "code",
   "execution_count": 11,
   "metadata": {},
   "outputs": [],
   "source": [
    "def generate_workers(file_name, num_workers, num_cpu, distribution=\"uniform\", max_frequency=None, mean=None, std=None):\n",
    "    i = num_cpu;\n",
    "    with open(file_name, \"w\") as file:\n",
    "        for worker_id in range(num_workers):\n",
    "            if i > 0:\n",
    "                cpu = 1;\n",
    "                i -= 1;\n",
    "            else:\n",
    "                cpu = 0;\n",
    "                \n",
    "\n",
    "            \n",
    "            if distribution == \"uniform\":\n",
    "                frequency = np.random.uniform(0.1, max_frequency)\n",
    "            elif distribution == \"gaussian\":\n",
    "                frequency = np.random.normal(mean, std)\n",
    "                frequency = max(0.1, min(frequency, max_frequency))\n",
    "            file.write(f\"{worker_id} {cpu} {frequency}\\n\")"
   ]
  },
  {
   "cell_type": "code",
   "execution_count": 17,
   "metadata": {},
   "outputs": [],
   "source": [
    "def generate_tasks(file_name, num_tasks, distribution=\"uniform\", max_duration=None, mean=None, std=None):\n",
    "    with open(file_name, \"w\") as file:\n",
    "        for task_id in range(num_tasks):\n",
    "            if distribution == \"uniform\":\n",
    "                duration = np.random.randint(1, max_duration)\n",
    "            elif distribution == \"gaussian\":\n",
    "                duration = np.random.normal(mean, std)\n",
    "                duration = max(1, min(int(duration), max_duration))  # Ensure duration is within bounds\n",
    "            task_type = np.random.choice([0, 1])  # 0 for Regular, 1 for Irregular\n",
    "            if task_type == 1:\n",
    "                duration = 200;\n",
    "            file.write(f\"{task_id} {task_type} {duration}\\n\")"
   ]
  },
  {
   "cell_type": "code",
   "execution_count": 8,
   "metadata": {},
   "outputs": [],
   "source": [
    "num_workers = 10\n",
    "num_cpu = 5\n",
    "num_tasks = 10"
   ]
  },
  {
   "cell_type": "code",
   "execution_count": 18,
   "metadata": {},
   "outputs": [],
   "source": [
    "# For uniform distribution\n",
    "generate_workers(\"workersPY.txt\", num_workers, num_cpu, distribution=\"uniform\", max_frequency=5.0)\n",
    "generate_tasks(\"tasksPY.txt\", num_tasks, distribution=\"uniform\", max_duration=200)"
   ]
  },
  {
   "cell_type": "code",
   "execution_count": 10,
   "metadata": {},
   "outputs": [],
   "source": [
    "# For Gaussian distribution\n",
    "generate_workers(\"workersPY.txt\",num_workers, num_cpu, distribution=\"gaussian\", max_frequency=5.0, mean=2.0, std=1.0)\n",
    "generate_tasks(\"tasksPY.txt\",num_tasks, distribution=\"gaussian\", max_duration=200, mean=100, std=20)"
   ]
  }
 ],
 "metadata": {
  "kernelspec": {
   "display_name": "Python 3",
   "language": "python",
   "name": "python3"
  },
  "language_info": {
   "codemirror_mode": {
    "name": "ipython",
    "version": 3
   },
   "file_extension": ".py",
   "mimetype": "text/x-python",
   "name": "python",
   "nbconvert_exporter": "python",
   "pygments_lexer": "ipython3",
   "version": "3.10.12"
  }
 },
 "nbformat": 4,
 "nbformat_minor": 2
}
